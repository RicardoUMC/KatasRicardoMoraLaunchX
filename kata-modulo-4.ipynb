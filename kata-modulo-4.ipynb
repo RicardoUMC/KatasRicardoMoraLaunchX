{
 "cells": [
  {
   "cell_type": "markdown",
   "metadata": {},
   "source": [
    "# Ejercicio 1: Transformar cadenas"
   ]
  },
  {
   "cell_type": "code",
   "execution_count": 23,
   "metadata": {},
   "outputs": [
    {
     "name": "stdout",
     "output_type": "stream",
     "text": [
      "\n",
      "On average, the Moon moves 4cm away from the Earth every year\n",
      "The highest daylight temperature of the Moon is 127 C.\n",
      "\n",
      "On average, the Moon moves 4cm away from the Earth every year\n",
      "The highest daylight temperature of the Moon is 127 Celsius.\n"
     ]
    }
   ],
   "source": [
    "text = \"\"\"Interesting facts about the Moon. The Moon is Earth's only satellite. There are several interesting facts about the Moon and how it affects life here on Earth. \n",
    "On average, the Moon moves 4cm away from the Earth every year. This yearly drift is not significant enough to cause immediate effects on Earth. The highest daylight temperature of the Moon is 127 C.\"\"\"\n",
    "\n",
    "# Dividir el texto en cada oración:\n",
    "divided_text = text.split('. ')\n",
    "\n",
    "# Definir palabras clave:\n",
    "key_words = ['average', 'temperature', 'distance']\n",
    "\n",
    "# Bucle para imprimir solo los datos relacionados con las palabras clave:\n",
    "for key_word in key_words:\n",
    "    for sentence in divided_text:\n",
    "        if key_word in sentence:\n",
    "            print(sentence)\n",
    "            break\n",
    "\n",
    "# Bucle para cambiar \"C\" a \"Celsius\":\n",
    "for key_word in key_words:\n",
    "    for sentence in divided_text:\n",
    "        if key_word in sentence:\n",
    "            print(sentence.replace('C', 'Celsius'))\n",
    "            break\n"
   ]
  },
  {
   "cell_type": "markdown",
   "metadata": {},
   "source": [
    "# Ejercicio 2: Formatenado Cadenas"
   ]
  },
  {
   "cell_type": "code",
   "execution_count": 39,
   "metadata": {},
   "outputs": [
    {
     "name": "stdout",
     "output_type": "stream",
     "text": [
      "Gravity Facts On Moon\n",
      "-------------------------------------------------------------------------------- \n",
      "Planet Name: Earth \n",
      "Gravity on Moon: 1.6199999999999999 m/s2 \n",
      "\n",
      "-------------------------------------------------------------------------------- \n",
      "Planet Name: Earth \n",
      "Gravity on Moon: 1.6199999999999999 m/s2 \n",
      "\n",
      "Datos De Gravedad En Marte\n",
      "--------------------------------------------------------------------------------\n",
      "Planet Name: Marte \n",
      "Gravity on Ganímedes : 1.4300000000000002 m/s2 \n",
      "\n"
     ]
    }
   ],
   "source": [
    "# Datos con los que trabajar\n",
    "name = 'Moon'\n",
    "gravity  = 0.00162 # in kms\n",
    "planet = 'Earth'\n",
    "\n",
    "# Creación del título significativo:\n",
    "title = 'Gravity facts on {}'.format(name)\n",
    "\n",
    "# Creación de plantilla:\n",
    "template = f\"\"\"{'-'*80} \n",
    "Planet Name: {planet} \n",
    "Gravity on {name}: {gravity * 1000} m/s2 \n",
    "\"\"\"\n",
    "\n",
    "# Unión de ambas cadenas:\n",
    "print(f\"\"\"{title.title()}\n",
    "{template}\"\"\")\n",
    "\n",
    "\n",
    "########## Nuevos datos muestra ##########\n",
    "name = 'Ganímedes '\n",
    "gravity = 0.00143  # in kms\n",
    "planet = 'Marte'\n",
    "\n",
    "# Comprobamos la plantilla:\n",
    "print(template)\n",
    "\n",
    "# Nueva plantilla:\n",
    "new_template = \"\"\"Datos De Gravedad En Marte\n",
    "--------------------------------------------------------------------------------\n",
    "Planet Name: {planet} \n",
    "Gravity on {name}: {gravity} m/s2 \n",
    "\"\"\"\n",
    "\n",
    "print(new_template.format(planet = planet, name = name, gravity = gravity * 1000))\n",
    "\n",
    "\n",
    "\n",
    "\n",
    "\n",
    "\n",
    "\n",
    "\n",
    "\n",
    "\n"
   ]
  },
  {
   "cell_type": "code",
   "execution_count": null,
   "metadata": {},
   "outputs": [],
   "source": []
  }
 ],
 "metadata": {
  "interpreter": {
   "hash": "f779eca3a750bafcf59e051e0cedc42f23938d3a08e4ac3411a467126037adc3"
  },
  "kernelspec": {
   "display_name": "Python 3.10.2 64-bit",
   "language": "python",
   "name": "python3"
  },
  "language_info": {
   "codemirror_mode": {
    "name": "ipython",
    "version": 3
   },
   "file_extension": ".py",
   "mimetype": "text/x-python",
   "name": "python",
   "nbconvert_exporter": "python",
   "pygments_lexer": "ipython3",
   "version": "3.10.2"
  },
  "orig_nbformat": 4
 },
 "nbformat": 4,
 "nbformat_minor": 2
}
