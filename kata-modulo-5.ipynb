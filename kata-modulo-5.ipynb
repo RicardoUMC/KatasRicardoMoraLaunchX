{
 "cells": [
  {
   "cell_type": "markdown",
   "metadata": {},
   "source": [
    "# Ejercicio 1: Operadores aritméticos\n",
    "## Distancia entre planetas"
   ]
  },
  {
   "cell_type": "code",
   "execution_count": 4,
   "metadata": {},
   "outputs": [
    {
     "name": "stdout",
     "output_type": "stream",
     "text": [
      "Distancia en km: 628949330\n",
      "Distancia en mi: 390577533.93\n"
     ]
    }
   ],
   "source": [
    "planet_1 = 149597870 # in km\n",
    "planet_2 = 778547200 # in km\n",
    "\n",
    "# Calcular distancia:\n",
    "km_distance = planet_2 - planet_1\n",
    "mi_distance = km_distance * 0.621\n",
    "\n",
    "print(f'Distancia en km: {km_distance}\\nDistancia en mi: {mi_distance}')\n"
   ]
  },
  {
   "cell_type": "markdown",
   "metadata": {},
   "source": [
    "# Ejercicio 2: Conversión de cadenas en números\n",
    "### Crear una aplicación para trabajar con números y entrada de usuario\n",
    "Para crear nuestra aplicación, queremos leer la distancia del sol para dos planetas, y luego mostrar la distancia entre los planetas. Haremos esto usando `input` para leer los valores, `int` para convertir a entero y luego `abs` para convertir el resultado en su valor absoluto."
   ]
  },
  {
   "cell_type": "code",
   "execution_count": 13,
   "metadata": {},
   "outputs": [
    {
     "name": "stdout",
     "output_type": "stream",
     "text": [
      "Distancia en km: 628949330\n",
      "Distancia en mi: 390577533.93\n"
     ]
    }
   ],
   "source": [
    "# Leer los valores del usuario\n",
    "planet_1 = input('Introducir distancia al sol del primer planeta en KM: ')\n",
    "planet_2 = input('Introducir distancia al sol del segundo planeta en KM: ')\n",
    "\n",
    "# Convertir a número\n",
    "planet_1 = int(planet_1)\n",
    "planet_2 = int(planet_2)\n",
    "\n",
    "# Hacer cálculo y convertir a valor absoluto\n",
    "km_distance = planet_2 - planet_1\n",
    "mi_distance = km_distance * 0.621\n",
    "\n",
    "print(\"\"\"Distancia en km: {}\\nDistancia en mi: {}\"\"\".format(km_distance, abs(mi_distance)))\n"
   ]
  }
 ],
 "metadata": {
  "interpreter": {
   "hash": "f779eca3a750bafcf59e051e0cedc42f23938d3a08e4ac3411a467126037adc3"
  },
  "kernelspec": {
   "display_name": "Python 3.10.2 64-bit",
   "language": "python",
   "name": "python3"
  },
  "language_info": {
   "codemirror_mode": {
    "name": "ipython",
    "version": 3
   },
   "file_extension": ".py",
   "mimetype": "text/x-python",
   "name": "python",
   "nbconvert_exporter": "python",
   "pygments_lexer": "ipython3",
   "version": "3.10.2"
  },
  "orig_nbformat": 4
 },
 "nbformat": 4,
 "nbformat_minor": 2
}
