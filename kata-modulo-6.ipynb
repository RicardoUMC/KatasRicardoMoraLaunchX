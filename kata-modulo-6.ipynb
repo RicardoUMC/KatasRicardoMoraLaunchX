{
 "cells": [
  {
   "cell_type": "markdown",
   "metadata": {},
   "source": [
    "## Ejercicio 1: Crear y usar listas de Python"
   ]
  },
  {
   "cell_type": "code",
   "execution_count": 15,
   "metadata": {},
   "outputs": [
    {
     "name": "stdout",
     "output_type": "stream",
     "text": [
      "There are 8 planets.\n",
      "There are 9 planets.\n",
      "Pluto is the last planet.\n"
     ]
    }
   ],
   "source": [
    "# Usar listas para almacenar nombre de planetas:\n",
    "planets = ['Mercury', 'Venus', 'Earth', 'Mars', 'Jupiter', 'Saturn','Uranus', 'Neptune']\n",
    "\n",
    "# Mostrar la cantidad de planetas:\n",
    "print('There are ' + str(len(planets)) + ' planets.')\n",
    "\n",
    "# Se agrega a Plutón y se muestra la nueva cantidad de planetas y el último agregado:\n",
    "planets.append('Pluto')\n",
    "print('There are ' + str(len(planets)) + ' planets.\\n' + planets[-1] + ' is the last planet.')\n"
   ]
  },
  {
   "cell_type": "markdown",
   "metadata": {},
   "source": [
    "## Ejercicio 2: Trabajando con datos de una lista"
   ]
  },
  {
   "cell_type": "code",
   "execution_count": 22,
   "metadata": {},
   "outputs": [
    {
     "name": "stdout",
     "output_type": "stream",
     "text": [
      "This/These planet(s) is/are closer to sun than Neptune\n",
      "['Mercury', 'Venus', 'Earth', 'Mars', 'Jupiter', 'Saturn']\n",
      "This/These planet(s) is/are further to sun than Neptune\n",
      "[]\n"
     ]
    }
   ],
   "source": [
    "# Lista de planetas\n",
    "planets = ['Mercury', 'Venus', 'Earth', 'Mars', 'Jupiter', 'Saturn', 'Neptune']\n",
    "\n",
    "# Solicitamos el nombre de un planeta al usuario:\n",
    "planet_user = input('Enter a planet name (capitalized at the beginning): ')\n",
    "\n",
    "# Busca el planeta en la lista:\n",
    "planet_index = planets.index(planet_user)\n",
    "\n",
    "# Mostrar los planetas más cercanos al sol:\n",
    "print('This/These planet(s) is/are closer to sun than ' + planet_user)\n",
    "print(planets[0:planet_index])\n",
    "\n",
    "# Mostrar los planetas más cercanos al sol:\n",
    "print('This/These planet(s) is/are further to sun than ' + planet_user)\n",
    "print(planets[planet_index+1:])\n"
   ]
  }
 ],
 "metadata": {
  "interpreter": {
   "hash": "f779eca3a750bafcf59e051e0cedc42f23938d3a08e4ac3411a467126037adc3"
  },
  "kernelspec": {
   "display_name": "Python 3.10.2 64-bit",
   "language": "python",
   "name": "python3"
  },
  "language_info": {
   "codemirror_mode": {
    "name": "ipython",
    "version": 3
   },
   "file_extension": ".py",
   "mimetype": "text/x-python",
   "name": "python",
   "nbconvert_exporter": "python",
   "pygments_lexer": "ipython3",
   "version": "3.10.2"
  },
  "orig_nbformat": 4
 },
 "nbformat": 4,
 "nbformat_minor": 2
}
