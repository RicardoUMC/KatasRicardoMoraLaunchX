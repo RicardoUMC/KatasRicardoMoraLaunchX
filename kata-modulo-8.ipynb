{
 "cells": [
  {
   "cell_type": "markdown",
   "metadata": {},
   "source": [
    "# Diccionarios en Python\n",
    "### Ejercicio 1: Crear y modificar un diccionario"
   ]
  },
  {
   "cell_type": "code",
   "execution_count": 26,
   "metadata": {},
   "outputs": [
    {
     "name": "stdout",
     "output_type": "stream",
     "text": [
      "Planet Mars has 2 moon(s).\n",
      "Planet Mars has 2 moon(s).\n",
      "Planet Mars has 6752 km of polar circumference.\n",
      "Planet Mars has 6752 km of polar circumference.\n"
     ]
    }
   ],
   "source": [
    "# Crear un diccionario:\n",
    "planet = {\n",
    "    'name': 'Mars',\n",
    "    'moons': 2\n",
    "}\n",
    "\n",
    "# Mostrar el nombre y el númeero de lunas del planeta:\n",
    "\n",
    "# Opción 1:\n",
    "print(f'Planet {planet.get(\"name\")} has {planet.get(\"moons\")} moon(s).')\n",
    "# Opción 2: \n",
    "print(f'Planet {planet[\"name\"]} has {planet[\"moons\"]} moon(s).')\n",
    "\n",
    "# Actualizar diccionario:\n",
    "\n",
    "# Opción 1:\n",
    "planet.update({'circumference (km)' : {'polar': 6752, 'equatorial': 6792}})\n",
    "# Opción 2:\n",
    "planet['circumference (km)'] = {\n",
    "    'polar': 6752, \n",
    "    'equatorial': 6792\n",
    "}\n",
    "\n",
    "# Mostrar el nombre y circunferencia polar del planeta:\n",
    "\n",
    "# Opción 1:\n",
    "print(f'Planet {planet.get(\"name\")} has {planet.get(\"circumference (km)\", {}).get(\"polar\")} km of polar circumference.')\n",
    "# Opción 2:\n",
    "print(f'Planet {planet[\"name\"]} has {planet[\"circumference (km)\"][\"polar\"]} km of polar circumference.')\n"
   ]
  },
  {
   "cell_type": "markdown",
   "metadata": {},
   "source": [
    "### Ejercicio 2: Programación dinámica con diccionarios"
   ]
  },
  {
   "cell_type": "code",
   "execution_count": 34,
   "metadata": {},
   "outputs": [
    {
     "name": "stdout",
     "output_type": "stream",
     "text": [
      "The average number of moons is: 17.833333333333332\n"
     ]
    }
   ],
   "source": [
    "# Planets and moons\n",
    "planet_moons = {\n",
    "    'mercury': 0,\n",
    "    'venus': 0,\n",
    "    'earth': 1,\n",
    "    'mars': 2,\n",
    "    'jupiter': 79,\n",
    "    'saturn': 82,\n",
    "    'uranus': 27,\n",
    "    'neptune': 14,\n",
    "    'pluto': 5,\n",
    "    'haumea': 2,\n",
    "    'makemake': 1,\n",
    "    'eris': 1\n",
    "}\n",
    "\n",
    "# Determinar el número de lunas:\n",
    "moons = planet_moons.values()\n",
    "planets = len(moons)\n",
    "\n",
    "total_moons = 0\n",
    "for moon in moons:\n",
    "    total_moons += moon\n",
    "\n",
    "average_moons = total_moons / planets\n",
    "print(f'The average number of moons is: {average_moons}')\n",
    "\n"
   ]
  }
 ],
 "metadata": {
  "interpreter": {
   "hash": "f779eca3a750bafcf59e051e0cedc42f23938d3a08e4ac3411a467126037adc3"
  },
  "kernelspec": {
   "display_name": "Python 3.10.2 64-bit",
   "language": "python",
   "name": "python3"
  },
  "language_info": {
   "codemirror_mode": {
    "name": "ipython",
    "version": 3
   },
   "file_extension": ".py",
   "mimetype": "text/x-python",
   "name": "python",
   "nbconvert_exporter": "python",
   "pygments_lexer": "ipython3",
   "version": "3.10.2"
  },
  "orig_nbformat": 4
 },
 "nbformat": 4,
 "nbformat_minor": 2
}
