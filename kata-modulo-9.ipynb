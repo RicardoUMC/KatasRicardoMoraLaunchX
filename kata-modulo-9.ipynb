{
 "cells": [
  {
   "cell_type": "markdown",
   "metadata": {},
   "source": [
    "# Uso de funciones en Python\n",
    "### Ejercicio 1: Tanques de la nave"
   ]
  },
  {
   "cell_type": "code",
   "execution_count": 38,
   "metadata": {},
   "outputs": [
    {
     "name": "stdout",
     "output_type": "stream",
     "text": [
      "\n",
      "    ---------------------------------------------\n",
      "    Fuel Report:\n",
      "        - Tank Average: 65.66666666666667%\n",
      "        - Main tank: 75%\n",
      "        - External tank: 64%\n",
      "        - Hydrogen tank: 58% \n",
      "    ---------------------------------------------\n",
      "    \n"
     ]
    }
   ],
   "source": [
    "# Función para leer 3 tanques de combustible y muestre el promedio:\n",
    "\n",
    "def generateReport(main_tank, external_tank, hydrogen_tank):\n",
    "    tank_average = (main_tank + external_tank + hydrogen_tank) / 3\n",
    "    return print(f\"\"\"\n",
    "    {'-' * 45}\n",
    "    Fuel Report:\n",
    "        - Tank Average: {tank_average}%\n",
    "        - Main tank: {main_tank}%\n",
    "        - External tank: {external_tank}%\n",
    "        - Hydrogen tank: {hydrogen_tank}% \n",
    "    {'-' * 45}\n",
    "    \"\"\")\n",
    "\n",
    "# Llamamos a la función que genera el reporte:\n",
    "generateReport(75, 64, 58)\n"
   ]
  },
  {
   "cell_type": "markdown",
   "metadata": {},
   "source": [
    "En lugar de simplemente crear el informe, la función también está calculando el promedio. Se mejora la legibilidad extrayendo el cálculo promedio de la función en una nueva función para que el promedio se pueda hacer de forma independiente:"
   ]
  },
  {
   "cell_type": "code",
   "execution_count": 39,
   "metadata": {},
   "outputs": [
    {
     "name": "stdout",
     "output_type": "stream",
     "text": [
      "\n",
      "    ---------------------------------------------\n",
      "    Fuel Report:\n",
      "        - Tank Average: 83.0%\n",
      "        - Main tank: 89%\n",
      "        - External tank: 78%\n",
      "        - Hydrogen tank: 82% \n",
      "    ---------------------------------------------\n",
      "    \n"
     ]
    }
   ],
   "source": [
    "# Función promedio:\n",
    "def calculateAverage(values):\n",
    "    return sum(values) / len(values)\n",
    "\n",
    "# Actualización de función:\n",
    "def generateReport(main_tank, external_tank, hydrogen_tank):\n",
    "    return print(f\"\"\"\n",
    "    {'-' * 45}\n",
    "    Fuel Report:\n",
    "        - Tank Average: {calculateAverage([main_tank, external_tank, hydrogen_tank])}%\n",
    "        - Main tank: {main_tank}%\n",
    "        - External tank: {external_tank}%\n",
    "        - Hydrogen tank: {hydrogen_tank}% \n",
    "    {'-' * 45}\n",
    "    \"\"\")\n",
    "\n",
    "# Llamamos a la función que genera el reporte\n",
    "generateReport(89, 78, 82)\n"
   ]
  },
  {
   "cell_type": "markdown",
   "metadata": {},
   "source": [
    "### Ejercicio 2: Viaje de la nave"
   ]
  },
  {
   "cell_type": "code",
   "execution_count": 40,
   "metadata": {},
   "outputs": [
    {
     "name": "stdout",
     "output_type": "stream",
     "text": [
      "\n",
      "    ---------------------------------------------\n",
      "    Mission report to Saturn:\n",
      "        - Total travel time: 73 minutes\n",
      "        - Total fuel left: 97300 gallons\n",
      "    ---------------------------------------------\n",
      "    \n"
     ]
    }
   ],
   "source": [
    "# Función con un informe preciso de la misión:\n",
    "def missionReport(prelaunch_time, flight_time, destination, external_tank, internal_tank):\n",
    "    return print(f\"\"\"\n",
    "    {'-' * 45}\n",
    "    Mission report to {destination}:\n",
    "        - Total travel time: {prelaunch_time + flight_time} minutes\n",
    "        - Total fuel left: {external_tank + internal_tank} gallons\n",
    "    {'-' * 45}\n",
    "    \"\"\")\n",
    "\n",
    "missionReport(23, 50, 'Saturn', 45000, 52300)"
   ]
  },
  {
   "cell_type": "markdown",
   "metadata": {},
   "source": [
    "Nueva función con mayor flexibilidad"
   ]
  },
  {
   "cell_type": "code",
   "execution_count": 41,
   "metadata": {},
   "outputs": [
    {
     "name": "stdout",
     "output_type": "stream",
     "text": [
      "\n",
      "    ---------------------------------------------\n",
      "    Mission report to Saturn:\n",
      "        - Total travel time: 1.5 hours \n",
      "        - Total fuel left: 1657400 gallons\n",
      "    ---------------------------------------------\n",
      "    \n"
     ]
    }
   ],
   "source": [
    "# Escribe tu nueva función de reporte considerando lo anterior\n",
    "\n",
    "def mission_report(destination, *minutes, **fuel_reservoirs):\n",
    "    time = sum(minutes)\n",
    "    format = 'minutes'\n",
    "    if time >= 60:\n",
    "        time /= 60\n",
    "        format = 'hours'\n",
    "    return print(f\"\"\"\n",
    "    {'-' * 45}\n",
    "    Mission report to {destination}:\n",
    "        - Total travel time: {time} {format} \n",
    "        - Total fuel left: {sum(fuel_reservoirs.values())} gallons\n",
    "    {'-' * 45}\n",
    "    \"\"\")\n",
    "\n",
    "mission_report(\"Saturn\", 26, 15, 49, main = 745000, external = 912400)\n"
   ]
  },
  {
   "cell_type": "markdown",
   "metadata": {},
   "source": [
    "Nueva función con información más detallada del combustible"
   ]
  },
  {
   "cell_type": "code",
   "execution_count": 66,
   "metadata": {},
   "outputs": [
    {
     "name": "stdout",
     "output_type": "stream",
     "text": [
      "\n",
      "    ---------------------------------------------\n",
      "    Mission report to Saturn:\n",
      "        - Total travel time: 1.5 hours \n",
      "        - Total fuel left: 1657400 gallons\n",
      "    \t\t~ Main tank: 745000 gallons\n",
      "\t\t~ External tank: 912400 gallons\n",
      "\n",
      "    ---------------------------------------------\n",
      "    \n"
     ]
    }
   ],
   "source": [
    "# Función de reporte a detalle\n",
    "\n",
    "def mission_report(destination, *minutes, **fuel_reservoirs):\n",
    "    time = sum(minutes)\n",
    "    format = 'minutes'\n",
    "    if time >= 60:\n",
    "        time /= 60\n",
    "        format = 'hours'\n",
    "    report = f\"\"\"\n",
    "    {'-' * 45}\n",
    "    Mission report to {destination}:\n",
    "        - Total travel time: {time} {format} \n",
    "        - Total fuel left: {sum(fuel_reservoirs.values())} gallons\n",
    "    \"\"\"\n",
    "    for tank_name, gallons in fuel_reservoirs.items():\n",
    "        report += f\"\\t\\t~ {tank_name.title()} tank: {gallons} gallons\\n\"\n",
    "\n",
    "    report += f\"\"\"\n",
    "    {'-' * 45}\n",
    "    \"\"\"\n",
    "    return print(report)\n",
    "\n",
    "\n",
    "mission_report(\"Saturn\", 26, 15, 49, main = 745000, external = 912400)\n"
   ]
  }
 ],
 "metadata": {
  "interpreter": {
   "hash": "f779eca3a750bafcf59e051e0cedc42f23938d3a08e4ac3411a467126037adc3"
  },
  "kernelspec": {
   "display_name": "Python 3.10.2 64-bit",
   "language": "python",
   "name": "python3"
  },
  "language_info": {
   "codemirror_mode": {
    "name": "ipython",
    "version": 3
   },
   "file_extension": ".py",
   "mimetype": "text/x-python",
   "name": "python",
   "nbconvert_exporter": "python",
   "pygments_lexer": "ipython3",
   "version": "3.10.2"
  },
  "orig_nbformat": 4
 },
 "nbformat": 4,
 "nbformat_minor": 2
}
